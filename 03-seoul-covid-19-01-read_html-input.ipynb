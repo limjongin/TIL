{
 "cells": [
  {
   "cell_type": "markdown",
   "metadata": {},
   "source": [
    "## 서울시에서 공개한 코로나19 발생동향 분석\n",
    "* http://www.seoul.go.kr/coronaV/coronaStatus.do\n",
    "\n",
    "#### 크롤링이 가능한 사이트 확인\n",
    "#### 크롬에서 소스코드 확인하여 table로 된 html태그에 대해서는 판다스로 크롤링이 가능함. "
   ]
  },
  {
   "cell_type": "code",
   "execution_count": 1,
   "metadata": {},
   "outputs": [],
   "source": [
    "# 필요한 라이브러리를 불러옵니다.\n",
    "\n",
    "import pandas as pd\n",
    "import numpy as np"
   ]
  },
  {
   "cell_type": "code",
   "execution_count": 2,
   "metadata": {},
   "outputs": [
    {
     "data": {
      "text/plain": [
       "'http://www.seoul.go.kr/coronaV/coronaStatus.do'"
      ]
     },
     "execution_count": 2,
     "metadata": {},
     "output_type": "execute_result"
    }
   ],
   "source": [
    "# 크롤링으로 가져올 url 주소를 입력합니다.\n",
    "\n",
    "url = \"http://www.seoul.go.kr/coronaV/coronaStatus.do\"\n",
    "url"
   ]
  },
  {
   "cell_type": "code",
   "execution_count": 5,
   "metadata": {},
   "outputs": [],
   "source": [
    "# 판다스의 read_html 을 통해 위 url에 있는 불러옵니다.\n",
    "\n",
    "table = pd.read_html(url)"
   ]
  },
  {
   "cell_type": "code",
   "execution_count": 6,
   "metadata": {},
   "outputs": [
    {
     "data": {
      "text/plain": [
       "[     소계  해외접촉관련  송파구교회관련  강서구요양시설관련  강남구사무실관련  강남구사무실K빌딩  강남구역삼동모임  리치웨이관련  \\\n",
       " 0  1574     337       18         23        26          6        13     122   \n",
       " \n",
       "    부천시쿠팡관련  관악구사무실관련  이태원클럽관련  구로구콜센터관련  타 시·도확진자접촉자   기타  경로확인중  \n",
       " 0       24        13      139        98           53  540    162  ,\n",
       "                                                    0\n",
       " 0  < 신종 코로나바이러스 감염증 예방 국민 행동수칙 >○ 기침 등 호흡기 증상이 있을...,\n",
       "                                                    0\n",
       " 0  < 신종 코로나바이러스 감염증 예방 의료기관 행동수칙 >○ 호흡기 질환자 진료시 마...,\n",
       "                                                    0\n",
       " 0  이 보도자료는 관련 발생 상황에 대한 정보를 신속 투명하게 공개하기 위한 것으로, ...,\n",
       "         연번     환자    확진일  거주지     여행력         접촉력         조치사항\n",
       " 0     1574  14172  7.26.  송파구       -  송파구 확진자 접촉        서울의료원\n",
       " 1     1573  14173  7.26.  강동구      미국    해외 접촉 추정        보라매병원\n",
       " 2     1572  14165  7.26.  종로구       -  송파구 확진자 접촉        서울의료원\n",
       " 3     1571  14175  7.26.  관악구     필리핀    해외 접촉 추정        보라매병원\n",
       " 4     1570  14171  7.26.  용산구     이라크    해외 접촉 추정        서울의료원\n",
       " ...    ...    ...    ...  ...     ...         ...          ...\n",
       " 1569     5      9  1.31.  성북구       -       #5 접촉    서울의료원(퇴원)\n",
       " 1570     4      7  1.30.  마포구  중국 우한시       해외 접촉    서울의료원(퇴원)\n",
       " 1571     3      6  1.30.  종로구       -       #3 접촉  서울대학교병원(퇴원)\n",
       " 1572     2      5  1.30.  중랑구  중국 우한시       해외 접촉    서울의료원(퇴원)\n",
       " 1573     1      2  1.24.  강서구  중국 우한시       해외 접촉  국립중앙의료원(퇴원)\n",
       " \n",
       " [1574 rows x 7 columns],\n",
       "                                                      연번    환자번호  \\\n",
       " 0     1574  <tr>  <td class=\"tdl\" colspan=\"5\">  <p>확...  #14172   \n",
       " 1     1573  <tr>  <td class=\"tdl\" colspan=\"5\">  <p>확...  #14173   \n",
       " 2     1572  <tr>  <td class=\"tdl\" colspan=\"5\">  <p>접...  #14165   \n",
       " 3     1571  <tr>  <td class=\"tdl\" colspan=\"5\">  <p>확...  #14175   \n",
       " 4     1570  <tr>  <td class=\"tdl\" colspan=\"5\">  <p>확...  #14171   \n",
       " ...                                                 ...     ...   \n",
       " 1569  5  <tr>  <td class=\"tdl\" colspan=\"5\">  <p>이동경로...      #9   \n",
       " 1570  4  <tr>  <td class=\"tdl\" colspan=\"5\">  <p>이동경로...      #7   \n",
       " 1571  3  <tr>  <td class=\"tdl\" colspan=\"5\">  <p>이동경로...      #6   \n",
       " 1572  2  <tr>  <td class=\"tdl\" colspan=\"5\">  <p>이동경로...      #5   \n",
       " 1573  1  <tr>  <td class=\"tdl\" colspan=\"5\">  <p>이동경로...      #2   \n",
       " \n",
       "                감염경로   확진일  거주지         격리시설  \n",
       " 0        송파구 확진자 접촉  7/26  송파구        서울의료원  \n",
       " 1      해외 접촉 추정(미국)  7/26  강동구        보라매병원  \n",
       " 2        송파구 확진자 접촉  7/26  종로구        서울의료원  \n",
       " 3     해외 접촉 추정(필리핀)  7/26  관악구        보라매병원  \n",
       " 4     해외 접촉 추정(이라크)  7/26  용산구        서울의료원  \n",
       " ...             ...   ...  ...          ...  \n",
       " 1569          #5 접촉  1/31  성북구    서울의료원(퇴원)  \n",
       " 1570  해외 접촉(중국 우한시)  1/30  마포구    서울의료원(퇴원)  \n",
       " 1571          #3 접촉  1/30  종로구  서울대학교병원(퇴원)  \n",
       " 1572  해외 접촉(중국 우한시)  1/30  중랑구    서울의료원(퇴원)  \n",
       " 1573  해외 접촉(중국 우한시)  1/24  강서구  국립중앙의료원(퇴원)  \n",
       " \n",
       " [1574 rows x 6 columns]]"
      ]
     },
     "execution_count": 6,
     "metadata": {},
     "output_type": "execute_result"
    }
   ],
   "source": [
    "# read_html 은 사이트 내의 html 태그를 불러옵니다.\n",
    "# 출력된 내용 맨 위에 대괄호가 있으면 인덱싱이 가능함.\n",
    "\n",
    "table"
   ]
  },
  {
   "cell_type": "code",
   "execution_count": 13,
   "metadata": {},
   "outputs": [
    {
     "data": {
      "text/html": [
       "<div>\n",
       "<style scoped>\n",
       "    .dataframe tbody tr th:only-of-type {\n",
       "        vertical-align: middle;\n",
       "    }\n",
       "\n",
       "    .dataframe tbody tr th {\n",
       "        vertical-align: top;\n",
       "    }\n",
       "\n",
       "    .dataframe thead th {\n",
       "        text-align: right;\n",
       "    }\n",
       "</style>\n",
       "<table border=\"1\" class=\"dataframe\">\n",
       "  <thead>\n",
       "    <tr style=\"text-align: right;\">\n",
       "      <th></th>\n",
       "      <th>연번</th>\n",
       "      <th>환자</th>\n",
       "      <th>확진일</th>\n",
       "      <th>거주지</th>\n",
       "      <th>여행력</th>\n",
       "      <th>접촉력</th>\n",
       "      <th>조치사항</th>\n",
       "    </tr>\n",
       "  </thead>\n",
       "  <tbody>\n",
       "    <tr>\n",
       "      <th>0</th>\n",
       "      <td>1574</td>\n",
       "      <td>14172</td>\n",
       "      <td>7.26.</td>\n",
       "      <td>송파구</td>\n",
       "      <td>-</td>\n",
       "      <td>송파구 확진자 접촉</td>\n",
       "      <td>서울의료원</td>\n",
       "    </tr>\n",
       "    <tr>\n",
       "      <th>1</th>\n",
       "      <td>1573</td>\n",
       "      <td>14173</td>\n",
       "      <td>7.26.</td>\n",
       "      <td>강동구</td>\n",
       "      <td>미국</td>\n",
       "      <td>해외 접촉 추정</td>\n",
       "      <td>보라매병원</td>\n",
       "    </tr>\n",
       "    <tr>\n",
       "      <th>2</th>\n",
       "      <td>1572</td>\n",
       "      <td>14165</td>\n",
       "      <td>7.26.</td>\n",
       "      <td>종로구</td>\n",
       "      <td>-</td>\n",
       "      <td>송파구 확진자 접촉</td>\n",
       "      <td>서울의료원</td>\n",
       "    </tr>\n",
       "    <tr>\n",
       "      <th>3</th>\n",
       "      <td>1571</td>\n",
       "      <td>14175</td>\n",
       "      <td>7.26.</td>\n",
       "      <td>관악구</td>\n",
       "      <td>필리핀</td>\n",
       "      <td>해외 접촉 추정</td>\n",
       "      <td>보라매병원</td>\n",
       "    </tr>\n",
       "    <tr>\n",
       "      <th>4</th>\n",
       "      <td>1570</td>\n",
       "      <td>14171</td>\n",
       "      <td>7.26.</td>\n",
       "      <td>용산구</td>\n",
       "      <td>이라크</td>\n",
       "      <td>해외 접촉 추정</td>\n",
       "      <td>서울의료원</td>\n",
       "    </tr>\n",
       "    <tr>\n",
       "      <th>...</th>\n",
       "      <td>...</td>\n",
       "      <td>...</td>\n",
       "      <td>...</td>\n",
       "      <td>...</td>\n",
       "      <td>...</td>\n",
       "      <td>...</td>\n",
       "      <td>...</td>\n",
       "    </tr>\n",
       "    <tr>\n",
       "      <th>1569</th>\n",
       "      <td>5</td>\n",
       "      <td>9</td>\n",
       "      <td>1.31.</td>\n",
       "      <td>성북구</td>\n",
       "      <td>-</td>\n",
       "      <td>#5 접촉</td>\n",
       "      <td>서울의료원(퇴원)</td>\n",
       "    </tr>\n",
       "    <tr>\n",
       "      <th>1570</th>\n",
       "      <td>4</td>\n",
       "      <td>7</td>\n",
       "      <td>1.30.</td>\n",
       "      <td>마포구</td>\n",
       "      <td>중국 우한시</td>\n",
       "      <td>해외 접촉</td>\n",
       "      <td>서울의료원(퇴원)</td>\n",
       "    </tr>\n",
       "    <tr>\n",
       "      <th>1571</th>\n",
       "      <td>3</td>\n",
       "      <td>6</td>\n",
       "      <td>1.30.</td>\n",
       "      <td>종로구</td>\n",
       "      <td>-</td>\n",
       "      <td>#3 접촉</td>\n",
       "      <td>서울대학교병원(퇴원)</td>\n",
       "    </tr>\n",
       "    <tr>\n",
       "      <th>1572</th>\n",
       "      <td>2</td>\n",
       "      <td>5</td>\n",
       "      <td>1.30.</td>\n",
       "      <td>중랑구</td>\n",
       "      <td>중국 우한시</td>\n",
       "      <td>해외 접촉</td>\n",
       "      <td>서울의료원(퇴원)</td>\n",
       "    </tr>\n",
       "    <tr>\n",
       "      <th>1573</th>\n",
       "      <td>1</td>\n",
       "      <td>2</td>\n",
       "      <td>1.24.</td>\n",
       "      <td>강서구</td>\n",
       "      <td>중국 우한시</td>\n",
       "      <td>해외 접촉</td>\n",
       "      <td>국립중앙의료원(퇴원)</td>\n",
       "    </tr>\n",
       "  </tbody>\n",
       "</table>\n",
       "<p>1574 rows × 7 columns</p>\n",
       "</div>"
      ],
      "text/plain": [
       "        연번     환자    확진일  거주지     여행력         접촉력         조치사항\n",
       "0     1574  14172  7.26.  송파구       -  송파구 확진자 접촉        서울의료원\n",
       "1     1573  14173  7.26.  강동구      미국    해외 접촉 추정        보라매병원\n",
       "2     1572  14165  7.26.  종로구       -  송파구 확진자 접촉        서울의료원\n",
       "3     1571  14175  7.26.  관악구     필리핀    해외 접촉 추정        보라매병원\n",
       "4     1570  14171  7.26.  용산구     이라크    해외 접촉 추정        서울의료원\n",
       "...    ...    ...    ...  ...     ...         ...          ...\n",
       "1569     5      9  1.31.  성북구       -       #5 접촉    서울의료원(퇴원)\n",
       "1570     4      7  1.30.  마포구  중국 우한시       해외 접촉    서울의료원(퇴원)\n",
       "1571     3      6  1.30.  종로구       -       #3 접촉  서울대학교병원(퇴원)\n",
       "1572     2      5  1.30.  중랑구  중국 우한시       해외 접촉    서울의료원(퇴원)\n",
       "1573     1      2  1.24.  강서구  중국 우한시       해외 접촉  국립중앙의료원(퇴원)\n",
       "\n",
       "[1574 rows x 7 columns]"
      ]
     },
     "execution_count": 13,
     "metadata": {},
     "output_type": "execute_result"
    }
   ],
   "source": [
    "# table 변수 안에 있는 table 태그의 값을 하나씩 읽어보며 확진자 목록이 있는 테이블을 가져옵니다.\n",
    "\n",
    "table[1]\n",
    "table[2]\n",
    "table[3]\n",
    "table[4]"
   ]
  },
  {
   "cell_type": "code",
   "execution_count": 14,
   "metadata": {},
   "outputs": [
    {
     "data": {
      "text/plain": [
       "(1574, 7)"
      ]
     },
     "execution_count": 14,
     "metadata": {},
     "output_type": "execute_result"
    }
   ],
   "source": [
    "# 미리보기 합니다.\n",
    "\n",
    "df = table[4]\n",
    "df.shape"
   ]
  },
  {
   "cell_type": "code",
   "execution_count": 23,
   "metadata": {},
   "outputs": [
    {
     "data": {
      "text/plain": [
       "'7_26_'"
      ]
     },
     "execution_count": 23,
     "metadata": {},
     "output_type": "execute_result"
    }
   ],
   "source": [
    "# 마지막 확진일을 파일명에 써주기 위해 . 을 _ 로 변경합니다.\n",
    "# 확장자와 구분이 쉽게 되도록 _ 로 변경합니다. \n",
    "\n",
    "last_day = df.loc[0, \"확진일\"]\n",
    "last_day = last_day.replace(\".\",\"_\")\n",
    "last_day"
   ]
  },
  {
   "cell_type": "code",
   "execution_count": 24,
   "metadata": {},
   "outputs": [
    {
     "data": {
      "text/plain": [
       "'seoul-covid19-7_26_.csv'"
      ]
     },
     "execution_count": 24,
     "metadata": {},
     "output_type": "execute_result"
    }
   ],
   "source": [
    "# 파일명을 만들어 줍니다.\n",
    "# file_name\n",
    "\n",
    "file_name = f\"seoul-covid19-{last_day}.csv\"\n",
    "file_name"
   ]
  },
  {
   "cell_type": "code",
   "execution_count": 27,
   "metadata": {},
   "outputs": [],
   "source": [
    "# csv 파일로 저장합니다.\n",
    "# 인덱스 빼고 저장하기\n",
    "\n",
    "df.to_csv(file_name, index = False)"
   ]
  },
  {
   "cell_type": "code",
   "execution_count": 28,
   "metadata": {},
   "outputs": [
    {
     "data": {
      "text/html": [
       "<div>\n",
       "<style scoped>\n",
       "    .dataframe tbody tr th:only-of-type {\n",
       "        vertical-align: middle;\n",
       "    }\n",
       "\n",
       "    .dataframe tbody tr th {\n",
       "        vertical-align: top;\n",
       "    }\n",
       "\n",
       "    .dataframe thead th {\n",
       "        text-align: right;\n",
       "    }\n",
       "</style>\n",
       "<table border=\"1\" class=\"dataframe\">\n",
       "  <thead>\n",
       "    <tr style=\"text-align: right;\">\n",
       "      <th></th>\n",
       "      <th>연번</th>\n",
       "      <th>환자</th>\n",
       "      <th>확진일</th>\n",
       "      <th>거주지</th>\n",
       "      <th>여행력</th>\n",
       "      <th>접촉력</th>\n",
       "      <th>조치사항</th>\n",
       "    </tr>\n",
       "  </thead>\n",
       "  <tbody>\n",
       "    <tr>\n",
       "      <th>0</th>\n",
       "      <td>1574</td>\n",
       "      <td>14172</td>\n",
       "      <td>7.26.</td>\n",
       "      <td>송파구</td>\n",
       "      <td>-</td>\n",
       "      <td>송파구 확진자 접촉</td>\n",
       "      <td>서울의료원</td>\n",
       "    </tr>\n",
       "    <tr>\n",
       "      <th>1</th>\n",
       "      <td>1573</td>\n",
       "      <td>14173</td>\n",
       "      <td>7.26.</td>\n",
       "      <td>강동구</td>\n",
       "      <td>미국</td>\n",
       "      <td>해외 접촉 추정</td>\n",
       "      <td>보라매병원</td>\n",
       "    </tr>\n",
       "    <tr>\n",
       "      <th>2</th>\n",
       "      <td>1572</td>\n",
       "      <td>14165</td>\n",
       "      <td>7.26.</td>\n",
       "      <td>종로구</td>\n",
       "      <td>-</td>\n",
       "      <td>송파구 확진자 접촉</td>\n",
       "      <td>서울의료원</td>\n",
       "    </tr>\n",
       "    <tr>\n",
       "      <th>3</th>\n",
       "      <td>1571</td>\n",
       "      <td>14175</td>\n",
       "      <td>7.26.</td>\n",
       "      <td>관악구</td>\n",
       "      <td>필리핀</td>\n",
       "      <td>해외 접촉 추정</td>\n",
       "      <td>보라매병원</td>\n",
       "    </tr>\n",
       "    <tr>\n",
       "      <th>4</th>\n",
       "      <td>1570</td>\n",
       "      <td>14171</td>\n",
       "      <td>7.26.</td>\n",
       "      <td>용산구</td>\n",
       "      <td>이라크</td>\n",
       "      <td>해외 접촉 추정</td>\n",
       "      <td>서울의료원</td>\n",
       "    </tr>\n",
       "    <tr>\n",
       "      <th>...</th>\n",
       "      <td>...</td>\n",
       "      <td>...</td>\n",
       "      <td>...</td>\n",
       "      <td>...</td>\n",
       "      <td>...</td>\n",
       "      <td>...</td>\n",
       "      <td>...</td>\n",
       "    </tr>\n",
       "    <tr>\n",
       "      <th>1569</th>\n",
       "      <td>5</td>\n",
       "      <td>9</td>\n",
       "      <td>1.31.</td>\n",
       "      <td>성북구</td>\n",
       "      <td>-</td>\n",
       "      <td>#5 접촉</td>\n",
       "      <td>서울의료원(퇴원)</td>\n",
       "    </tr>\n",
       "    <tr>\n",
       "      <th>1570</th>\n",
       "      <td>4</td>\n",
       "      <td>7</td>\n",
       "      <td>1.30.</td>\n",
       "      <td>마포구</td>\n",
       "      <td>중국 우한시</td>\n",
       "      <td>해외 접촉</td>\n",
       "      <td>서울의료원(퇴원)</td>\n",
       "    </tr>\n",
       "    <tr>\n",
       "      <th>1571</th>\n",
       "      <td>3</td>\n",
       "      <td>6</td>\n",
       "      <td>1.30.</td>\n",
       "      <td>종로구</td>\n",
       "      <td>-</td>\n",
       "      <td>#3 접촉</td>\n",
       "      <td>서울대학교병원(퇴원)</td>\n",
       "    </tr>\n",
       "    <tr>\n",
       "      <th>1572</th>\n",
       "      <td>2</td>\n",
       "      <td>5</td>\n",
       "      <td>1.30.</td>\n",
       "      <td>중랑구</td>\n",
       "      <td>중국 우한시</td>\n",
       "      <td>해외 접촉</td>\n",
       "      <td>서울의료원(퇴원)</td>\n",
       "    </tr>\n",
       "    <tr>\n",
       "      <th>1573</th>\n",
       "      <td>1</td>\n",
       "      <td>2</td>\n",
       "      <td>1.24.</td>\n",
       "      <td>강서구</td>\n",
       "      <td>중국 우한시</td>\n",
       "      <td>해외 접촉</td>\n",
       "      <td>국립중앙의료원(퇴원)</td>\n",
       "    </tr>\n",
       "  </tbody>\n",
       "</table>\n",
       "<p>1574 rows × 7 columns</p>\n",
       "</div>"
      ],
      "text/plain": [
       "        연번     환자    확진일  거주지     여행력         접촉력         조치사항\n",
       "0     1574  14172  7.26.  송파구       -  송파구 확진자 접촉        서울의료원\n",
       "1     1573  14173  7.26.  강동구      미국    해외 접촉 추정        보라매병원\n",
       "2     1572  14165  7.26.  종로구       -  송파구 확진자 접촉        서울의료원\n",
       "3     1571  14175  7.26.  관악구     필리핀    해외 접촉 추정        보라매병원\n",
       "4     1570  14171  7.26.  용산구     이라크    해외 접촉 추정        서울의료원\n",
       "...    ...    ...    ...  ...     ...         ...          ...\n",
       "1569     5      9  1.31.  성북구       -       #5 접촉    서울의료원(퇴원)\n",
       "1570     4      7  1.30.  마포구  중국 우한시       해외 접촉    서울의료원(퇴원)\n",
       "1571     3      6  1.30.  종로구       -       #3 접촉  서울대학교병원(퇴원)\n",
       "1572     2      5  1.30.  중랑구  중국 우한시       해외 접촉    서울의료원(퇴원)\n",
       "1573     1      2  1.24.  강서구  중국 우한시       해외 접촉  국립중앙의료원(퇴원)\n",
       "\n",
       "[1574 rows x 7 columns]"
      ]
     },
     "execution_count": 28,
     "metadata": {},
     "output_type": "execute_result"
    }
   ],
   "source": [
    "# 제대로 저장되었는지 확인합니다.\n",
    "\n",
    "\n",
    "pd.read_csv(file_name)"
   ]
  },
  {
   "cell_type": "code",
   "execution_count": null,
   "metadata": {},
   "outputs": [],
   "source": []
  },
  {
   "cell_type": "code",
   "execution_count": null,
   "metadata": {},
   "outputs": [],
   "source": []
  },
  {
   "cell_type": "code",
   "execution_count": null,
   "metadata": {},
   "outputs": [],
   "source": []
  },
  {
   "cell_type": "code",
   "execution_count": null,
   "metadata": {},
   "outputs": [],
   "source": []
  }
 ],
 "metadata": {
  "kernelspec": {
   "display_name": "Python 3",
   "language": "python",
   "name": "python3"
  },
  "language_info": {
   "codemirror_mode": {
    "name": "ipython",
    "version": 3
   },
   "file_extension": ".py",
   "mimetype": "text/x-python",
   "name": "python",
   "nbconvert_exporter": "python",
   "pygments_lexer": "ipython3",
   "version": "3.7.6"
  },
  "toc": {
   "base_numbering": 1,
   "nav_menu": {},
   "number_sections": true,
   "sideBar": true,
   "skip_h1_title": false,
   "title_cell": "Table of Contents",
   "title_sidebar": "Contents",
   "toc_cell": false,
   "toc_position": {},
   "toc_section_display": true,
   "toc_window_display": false
  },
  "varInspector": {
   "cols": {
    "lenName": 16,
    "lenType": 16,
    "lenVar": 40
   },
   "kernels_config": {
    "python": {
     "delete_cmd_postfix": "",
     "delete_cmd_prefix": "del ",
     "library": "var_list.py",
     "varRefreshCmd": "print(var_dic_list())"
    },
    "r": {
     "delete_cmd_postfix": ") ",
     "delete_cmd_prefix": "rm(",
     "library": "var_list.r",
     "varRefreshCmd": "cat(var_dic_list()) "
    }
   },
   "types_to_exclude": [
    "module",
    "function",
    "builtin_function_or_method",
    "instance",
    "_Feature"
   ],
   "window_display": false
  }
 },
 "nbformat": 4,
 "nbformat_minor": 4
}
