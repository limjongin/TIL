{
 "cells": [
  {
   "cell_type": "markdown",
   "metadata": {
    "colab_type": "text",
    "id": "2PtQS3ZvFxFc"
   },
   "source": [
    "### 1. Hello World!를 출력해 보세요. "
   ]
  },
  {
   "cell_type": "code",
   "execution_count": 1,
   "metadata": {
    "colab": {},
    "colab_type": "code",
    "id": "k1jFYZs7FwtV"
   },
   "outputs": [
    {
     "data": {
      "text/plain": [
       "'Hello World'"
      ]
     },
     "execution_count": 1,
     "metadata": {},
     "output_type": "execute_result"
    }
   ],
   "source": [
    "\"Hello World\""
   ]
  },
  {
   "cell_type": "markdown",
   "metadata": {
    "colab_type": "text",
    "id": "RL2W7-hxF8An"
   },
   "source": [
    "## 사칙연산\n",
    "### 2. 더하기 1 + 1 을 아래의 셀에 입력 후 실행해 보세요."
   ]
  },
  {
   "cell_type": "code",
   "execution_count": 48,
   "metadata": {
    "colab": {},
    "colab_type": "code",
    "id": "x6MhRuYZFo4W"
   },
   "outputs": [
    {
     "data": {
      "text/plain": [
       "2"
      ]
     },
     "execution_count": 48,
     "metadata": {},
     "output_type": "execute_result"
    }
   ],
   "source": [
    "1 + 1"
   ]
  },
  {
   "cell_type": "markdown",
   "metadata": {
    "colab_type": "text",
    "id": "HpJ7xFtrGXQG"
   },
   "source": [
    "### 3. 빼기 7 - 3 을 아래의 셀에 입력 후 실행해 보세요. "
   ]
  },
  {
   "cell_type": "code",
   "execution_count": 14,
   "metadata": {
    "colab": {},
    "colab_type": "code",
    "id": "304JBW03GW2j"
   },
   "outputs": [
    {
     "data": {
      "text/plain": [
       "4"
      ]
     },
     "execution_count": 14,
     "metadata": {},
     "output_type": "execute_result"
    }
   ],
   "source": [
    "7 - 3"
   ]
  },
  {
   "cell_type": "markdown",
   "metadata": {
    "colab_type": "text",
    "id": "PpL0kd5nGdXC"
   },
   "source": [
    "### 4. 곱하기 3 * 4 를 아래의 셀에 입력 후 실행해 보세요."
   ]
  },
  {
   "cell_type": "code",
   "execution_count": 15,
   "metadata": {
    "colab": {},
    "colab_type": "code",
    "id": "4DgQ2TjLGVBe"
   },
   "outputs": [
    {
     "data": {
      "text/plain": [
       "12"
      ]
     },
     "execution_count": 15,
     "metadata": {},
     "output_type": "execute_result"
    }
   ],
   "source": [
    "3 * 4"
   ]
  },
  {
   "cell_type": "markdown",
   "metadata": {
    "colab_type": "text",
    "id": "WAebOJCOfmq2"
   },
   "source": [
    "### 5. 나누기 3/2 를 아래의 셀에 입력 후 실행해 보세요."
   ]
  },
  {
   "cell_type": "code",
   "execution_count": 16,
   "metadata": {
    "colab": {},
    "colab_type": "code",
    "id": "ESoyBUFOpcVr"
   },
   "outputs": [
    {
     "data": {
      "text/plain": [
       "1.5"
      ]
     },
     "execution_count": 16,
     "metadata": {},
     "output_type": "execute_result"
    }
   ],
   "source": [
    "3 / 2"
   ]
  },
  {
   "cell_type": "markdown",
   "metadata": {
    "colab_type": "text",
    "id": "aCSXdn9COSV0"
   },
   "source": [
    "## 변수\n",
    "### 6. 변수할당하기 \"Python\"이라는 문자를 p라는 변수에 할당해 주세요.\n",
    "* 참고: https://dojang.io/mod/page/view.php?id=2176 "
   ]
  },
  {
   "cell_type": "code",
   "execution_count": 2,
   "metadata": {
    "colab": {},
    "colab_type": "code",
    "id": "B5PI27NxOZzT"
   },
   "outputs": [
    {
     "data": {
      "text/plain": [
       "'Python'"
      ]
     },
     "execution_count": 2,
     "metadata": {},
     "output_type": "execute_result"
    }
   ],
   "source": [
    "p = \"Python\"\n",
    "p"
   ]
  },
  {
   "cell_type": "markdown",
   "metadata": {
    "colab_type": "text",
    "id": "h-ueaI94OjFd"
   },
   "source": [
    "### 7. 위에 있는 링크를 참고해서 p 라는 변수에 담겨있는 값을 type을 통해 출력해 주세요."
   ]
  },
  {
   "cell_type": "code",
   "execution_count": 3,
   "metadata": {
    "colab": {},
    "colab_type": "code",
    "id": "9CN4aIclOopl"
   },
   "outputs": [
    {
     "data": {
      "text/plain": [
       "str"
      ]
     },
     "execution_count": 3,
     "metadata": {},
     "output_type": "execute_result"
    }
   ],
   "source": [
    "type(p)"
   ]
  },
  {
   "cell_type": "markdown",
   "metadata": {
    "colab_type": "text",
    "id": "GVadKQcGbEw8"
   },
   "source": [
    "### 8. p라는 변수에 담겨있는 문자열을 소문자로 변경해 주세요.\n",
    "* 참고 : https://dojang.io/mod/page/view.php?id=2299 (24.1.5  소문자를 대문자로 바꾸기)"
   ]
  },
  {
   "cell_type": "code",
   "execution_count": 8,
   "metadata": {
    "colab": {},
    "colab_type": "code",
    "id": "zu_DO0fNbEMP"
   },
   "outputs": [
    {
     "data": {
      "text/plain": [
       "'python'"
      ]
     },
     "execution_count": 8,
     "metadata": {},
     "output_type": "execute_result"
    }
   ],
   "source": [
    "p.lower()"
   ]
  },
  {
   "cell_type": "markdown",
   "metadata": {
    "colab_type": "text",
    "id": "9zyzoWzBeiCG"
   },
   "source": [
    "### 9. p라는 변수에 담겨있는 문자열을 대문자로 변경해 주세요.\n",
    "* 참고 : https://dojang.io/mod/page/view.php?id=2299 (24.1.6  대문자를 소문자로 바꾸기)"
   ]
  },
  {
   "cell_type": "code",
   "execution_count": 9,
   "metadata": {
    "colab": {},
    "colab_type": "code",
    "id": "D4TeZvQDehmB"
   },
   "outputs": [
    {
     "data": {
      "text/plain": [
       "'PYTHON'"
      ]
     },
     "execution_count": 9,
     "metadata": {},
     "output_type": "execute_result"
    }
   ],
   "source": [
    "p.upper()"
   ]
  },
  {
   "cell_type": "markdown",
   "metadata": {
    "colab_type": "text",
    "id": "BTiS5uzoOaGM"
   },
   "source": [
    "### 10. number 라는 변수에 1234 를 할당해 주세요.\n",
    "* 참고: https://dojang.io/mod/page/view.php?id=2176 "
   ]
  },
  {
   "cell_type": "code",
   "execution_count": 11,
   "metadata": {
    "colab": {},
    "colab_type": "code",
    "id": "QxS8-8MbOrfj"
   },
   "outputs": [
    {
     "data": {
      "text/plain": [
       "1234"
      ]
     },
     "execution_count": 11,
     "metadata": {},
     "output_type": "execute_result"
    }
   ],
   "source": [
    "number = 1234\n",
    "number"
   ]
  },
  {
   "cell_type": "markdown",
   "metadata": {
    "colab_type": "text",
    "id": "0JQ2vDzhPJeR"
   },
   "source": [
    "### 11. number 라는 변수에 담겨있는 값을 type을 통해 출력해 주세요.\n",
    "* 참고: https://dojang.io/mod/page/view.php?id=2176 "
   ]
  },
  {
   "cell_type": "code",
   "execution_count": 12,
   "metadata": {
    "colab": {},
    "colab_type": "code",
    "id": "-ZnMXeCYPPey"
   },
   "outputs": [
    {
     "data": {
      "text/plain": [
       "int"
      ]
     },
     "execution_count": 12,
     "metadata": {},
     "output_type": "execute_result"
    }
   ],
   "source": [
    "type(number)"
   ]
  },
  {
   "cell_type": "markdown",
   "metadata": {
    "colab_type": "text",
    "id": "yGu7gm5RMF0u"
   },
   "source": [
    "## 비교연산"
   ]
  },
  {
   "cell_type": "markdown",
   "metadata": {
    "colab_type": "text",
    "id": "SDuWv-V_MRdS"
   },
   "source": [
    "### 12. 1 + 2 는 3 과 같습니다.  1 + 2 가 3과 같음을 표현해 보세요.\n",
    "* 참고 : https://dojang.io/mod/page/view.php?id=2191"
   ]
  },
  {
   "cell_type": "code",
   "execution_count": 17,
   "metadata": {
    "colab": {},
    "colab_type": "code",
    "id": "jXaSMqQcMQ7w"
   },
   "outputs": [
    {
     "data": {
      "text/plain": [
       "True"
      ]
     },
     "execution_count": 17,
     "metadata": {},
     "output_type": "execute_result"
    }
   ],
   "source": [
    "1 + 2 == 3"
   ]
  },
  {
   "cell_type": "markdown",
   "metadata": {
    "colab_type": "text",
    "id": "eioHHwqbNstd"
   },
   "source": [
    "### 13. 1 + 2 는 4와 다릅니다. 위 문제의 링크를 참고해서 1 + 2 가 4와 같지 않음을 표현해 보세요."
   ]
  },
  {
   "cell_type": "code",
   "execution_count": 18,
   "metadata": {
    "colab": {},
    "colab_type": "code",
    "id": "pKoIYTDHMIbm"
   },
   "outputs": [
    {
     "data": {
      "text/plain": [
       "True"
      ]
     },
     "execution_count": 18,
     "metadata": {},
     "output_type": "execute_result"
    }
   ],
   "source": [
    "1 + 2 != 4"
   ]
  },
  {
   "cell_type": "markdown",
   "metadata": {
    "colab_type": "text",
    "id": "KRozSJvyPSEe"
   },
   "source": [
    "### 14. 2 + 3 은 4보다 크다는 것을 표현해 보세요. 결과값이 True가 찍히도록 구현합니다."
   ]
  },
  {
   "cell_type": "code",
   "execution_count": 19,
   "metadata": {
    "colab": {},
    "colab_type": "code",
    "id": "thyhgfR3PYI_"
   },
   "outputs": [
    {
     "data": {
      "text/plain": [
       "True"
      ]
     },
     "execution_count": 19,
     "metadata": {},
     "output_type": "execute_result"
    }
   ],
   "source": [
    "2 + 3 > 4"
   ]
  },
  {
   "cell_type": "markdown",
   "metadata": {
    "colab_type": "text",
    "id": "TRymaVc7PY8D"
   },
   "source": [
    "### 15. 2 + 3 은 6보다 작다는 것을 표현해 보세요. 결과값이 True가 찍히도록 구현합니다."
   ]
  },
  {
   "cell_type": "code",
   "execution_count": 20,
   "metadata": {
    "colab": {},
    "colab_type": "code",
    "id": "URZiz1aGPdpN"
   },
   "outputs": [
    {
     "data": {
      "text/plain": [
       "True"
      ]
     },
     "execution_count": 20,
     "metadata": {},
     "output_type": "execute_result"
    }
   ],
   "source": [
    "2 + 3 < 6"
   ]
  },
  {
   "cell_type": "markdown",
   "metadata": {
    "colab_type": "text",
    "id": "V5oJf_dsP9L0"
   },
   "source": [
    "## 문자열\n",
    "### 16. 다음은 서울에 있는 구를 문자열 형태로 만들어 gu 라는 변수에 담아놓았습니다.\n",
    "* gu라는 변수가 선언되게 아래의 셀을 실행해 주세요."
   ]
  },
  {
   "cell_type": "code",
   "execution_count": 23,
   "metadata": {
    "colab": {},
    "colab_type": "code",
    "id": "HOrnCwdXSTve"
   },
   "outputs": [
    {
     "data": {
      "text/plain": [
       "'강남구 강동구 강북구 강서구 관악구 광진구 구로구 금천구 노원구 도봉구 동대문구 동작구 마포구 서대문구 서초구 성동구 성북구 송파구 양천구 영등포구 용산구 은평구 종로구 중구 중랑구'"
      ]
     },
     "execution_count": 23,
     "metadata": {},
     "output_type": "execute_result"
    }
   ],
   "source": [
    "gu = '강남구 강동구 강북구 강서구 관악구 광진구 구로구 금천구 노원구 도봉구 동대문구 동작구 마포구 서대문구 서초구 성동구 성북구 송파구 양천구 영등포구 용산구 은평구 종로구 중구 중랑구'\n",
    "gu"
   ]
  },
  {
   "cell_type": "markdown",
   "metadata": {
    "colab_type": "text",
    "id": "u7-K6quRTv4k"
   },
   "source": [
    "### 17. 다음 링크의 split() 을 활용해 gu 라는 변수에 담겨있는 값을 리스트 형태를 변경해 주세요. 그리고 gu_list 라는 변수에 결과 값을 담아주세요.\n",
    "* 참고 : https://dojang.io/mod/page/view.php?id=2299 (24.1.3  문자열 분리하기)"
   ]
  },
  {
   "cell_type": "code",
   "execution_count": 24,
   "metadata": {
    "colab": {},
    "colab_type": "code",
    "id": "6kdgcnQrTZQz"
   },
   "outputs": [
    {
     "data": {
      "text/plain": [
       "['강남구',\n",
       " '강동구',\n",
       " '강북구',\n",
       " '강서구',\n",
       " '관악구',\n",
       " '광진구',\n",
       " '구로구',\n",
       " '금천구',\n",
       " '노원구',\n",
       " '도봉구',\n",
       " '동대문구',\n",
       " '동작구',\n",
       " '마포구',\n",
       " '서대문구',\n",
       " '서초구',\n",
       " '성동구',\n",
       " '성북구',\n",
       " '송파구',\n",
       " '양천구',\n",
       " '영등포구',\n",
       " '용산구',\n",
       " '은평구',\n",
       " '종로구',\n",
       " '중구',\n",
       " '중랑구']"
      ]
     },
     "execution_count": 24,
     "metadata": {},
     "output_type": "execute_result"
    }
   ],
   "source": [
    "gu_list = gu.split()\n",
    "gu_list"
   ]
  },
  {
   "cell_type": "markdown",
   "metadata": {
    "colab_type": "text",
    "id": "LzxfRMonfXgl"
   },
   "source": [
    "### 18. len 을 활용하여 gu 라는 변수에 담겨져 있는 문자열의 수를 세어보세요.\n",
    "* 참고 : https://dojang.io/mod/page/view.php?id=2206"
   ]
  },
  {
   "cell_type": "code",
   "execution_count": 25,
   "metadata": {
    "colab": {},
    "colab_type": "code",
    "id": "IrpR14gdfXNu"
   },
   "outputs": [
    {
     "data": {
      "text/plain": [
       "101"
      ]
     },
     "execution_count": 25,
     "metadata": {},
     "output_type": "execute_result"
    }
   ],
   "source": [
    "len(gu)"
   ]
  },
  {
   "cell_type": "markdown",
   "metadata": {
    "colab_type": "text",
    "id": "SCnwkEEpXXMt"
   },
   "source": [
    "### 19. join 을 사용해서 gu_list 변수 안에 담겨져 있는 값을 공백(스페이스)으로 연결되도록 해보세요.\n",
    "* 참고 : https://dojang.io/mod/page/view.php?id=2299 (24.1.4  구분자 문자열과 문자열 리스트 연결하기)"
   ]
  },
  {
   "cell_type": "code",
   "execution_count": 28,
   "metadata": {
    "colab": {},
    "colab_type": "code",
    "id": "RG8kIIyfWjJm"
   },
   "outputs": [
    {
     "data": {
      "text/plain": [
       "'강남구 강동구 강북구 강서구 관악구 광진구 구로구 금천구 노원구 도봉구 동대문구 동작구 마포구 서대문구 서초구 성동구 성북구 송파구 양천구 영등포구 용산구 은평구 종로구 중구 중랑구'"
      ]
     },
     "execution_count": 28,
     "metadata": {},
     "output_type": "execute_result"
    }
   ],
   "source": [
    "\" \".join(gu_list)"
   ]
  },
  {
   "cell_type": "markdown",
   "metadata": {
    "colab_type": "text",
    "id": "OQb6WlO-gCXg"
   },
   "source": [
    "### 20. 반복문(for)을 사용하여 구를 순서대로 출력해 주세요.\n",
    "* 아래 for문이 오류 없이 돌아가도록 변경해 주세요."
   ]
  },
  {
   "cell_type": "code",
   "execution_count": 30,
   "metadata": {
    "colab": {},
    "colab_type": "code",
    "id": "iZ1OTUpEgB0Y"
   },
   "outputs": [
    {
     "name": "stdout",
     "output_type": "stream",
     "text": [
      "강\n",
      "남\n",
      "구\n",
      " \n",
      "강\n",
      "동\n",
      "구\n",
      " \n",
      "강\n",
      "북\n",
      "구\n",
      " \n",
      "강\n",
      "서\n",
      "구\n",
      " \n",
      "관\n",
      "악\n",
      "구\n",
      " \n",
      "광\n",
      "진\n",
      "구\n",
      " \n",
      "구\n",
      "로\n",
      "구\n",
      " \n",
      "금\n",
      "천\n",
      "구\n",
      " \n",
      "노\n",
      "원\n",
      "구\n",
      " \n",
      "도\n",
      "봉\n",
      "구\n",
      " \n",
      "동\n",
      "대\n",
      "문\n",
      "구\n",
      " \n",
      "동\n",
      "작\n",
      "구\n",
      " \n",
      "마\n",
      "포\n",
      "구\n",
      " \n",
      "서\n",
      "대\n",
      "문\n",
      "구\n",
      " \n",
      "서\n",
      "초\n",
      "구\n",
      " \n",
      "성\n",
      "동\n",
      "구\n",
      " \n",
      "성\n",
      "북\n",
      "구\n",
      " \n",
      "송\n",
      "파\n",
      "구\n",
      " \n",
      "양\n",
      "천\n",
      "구\n",
      " \n",
      "영\n",
      "등\n",
      "포\n",
      "구\n",
      " \n",
      "용\n",
      "산\n",
      "구\n",
      " \n",
      "은\n",
      "평\n",
      "구\n",
      " \n",
      "종\n",
      "로\n",
      "구\n",
      " \n",
      "중\n",
      "구\n",
      " \n",
      "중\n",
      "랑\n",
      "구\n"
     ]
    }
   ],
   "source": [
    "for g in gu:\n",
    "    print(g)"
   ]
  },
  {
   "cell_type": "markdown",
   "metadata": {
    "colab_type": "text",
    "id": "lwP9gaeq_rC1"
   },
   "source": [
    "### 21. \"2020년 02월\"이라는 문자열에서 split 과 인덱싱을 사용해서 월을 분리해 주세요. 02를 출력합니다."
   ]
  },
  {
   "cell_type": "code",
   "execution_count": 47,
   "metadata": {
    "colab": {},
    "colab_type": "code",
    "id": "_VNyHDPS_9Is"
   },
   "outputs": [
    {
     "data": {
      "text/plain": [
       "'02월'"
      ]
     },
     "execution_count": 47,
     "metadata": {},
     "output_type": "execute_result"
    }
   ],
   "source": [
    "date = \"2020년 02월\"\n",
    "\n",
    "date_list = date.split()\n",
    "date_list\n",
    "date_list[1]"
   ]
  },
  {
   "cell_type": "markdown",
   "metadata": {
    "colab_type": "text",
    "id": "foNx7-IvAI5n"
   },
   "source": [
    "### 22. 다음의 리스트에서 스타벅스일때는 \"스타벅스 green\" 을 이디야 일때는 \"이디야 blue\"를 출력하도록 하는 코드입니다. 제대로 동작하도록 수정해 보세요."
   ]
  },
  {
   "cell_type": "code",
   "execution_count": 34,
   "metadata": {
    "colab": {},
    "colab_type": "code",
    "id": "VZHCbYF0AGYM"
   },
   "outputs": [
    {
     "name": "stdout",
     "output_type": "stream",
     "text": [
      "스타벅스 green\n",
      "이디야 blue\n"
     ]
    }
   ],
   "source": [
    "coffee = [\"스타벅스\", \"이디야\"]\n",
    "\n",
    "for c in coffee:\n",
    "    if c == \"스타벅스\":\n",
    "        print(c, \"green\")\n",
    "    elif c==\"이디야\":\n",
    "        print(c, \"blue\")"
   ]
  },
  {
   "cell_type": "markdown",
   "metadata": {
    "colab_type": "text",
    "id": "GmYAIZM4c-Lz"
   },
   "source": [
    "### 23. 아래의 for 문이 5번 print 문을 출력하도록 수정해 보세요.\n",
    "* 참고 : https://dojang.io/mod/page/view.php?id=2241"
   ]
  },
  {
   "cell_type": "code",
   "execution_count": 35,
   "metadata": {
    "colab": {},
    "colab_type": "code",
    "id": "lbcJPy93DRlz"
   },
   "outputs": [
    {
     "name": "stdout",
     "output_type": "stream",
     "text": [
      "0\n",
      "1\n",
      "2\n",
      "3\n",
      "4\n",
      "5\n"
     ]
    }
   ],
   "source": [
    "for i in range(6):\n",
    "    print(i)"
   ]
  },
  {
   "cell_type": "markdown",
   "metadata": {
    "colab_type": "text",
    "id": "eyt1Xj8-dgsK"
   },
   "source": [
    "### 24. % 연산을 하면 나머지를 구할 수 있습니다. 아래의 코드에서 홀수가 출력되도록 코드를 수정해 보세요.\n",
    "* 참고 : https://dojang.io/mod/page/view.php?id=2227"
   ]
  },
  {
   "cell_type": "code",
   "execution_count": 42,
   "metadata": {
    "colab": {},
    "colab_type": "code",
    "id": "XoHTSaVBd7w4"
   },
   "outputs": [
    {
     "name": "stdout",
     "output_type": "stream",
     "text": [
      "홀수\n"
     ]
    }
   ],
   "source": [
    "number = 11\n",
    "if number % 2 == 0 :\n",
    "    print(\"짝수\")\n",
    "else:\n",
    "    print(\"홀수\")"
   ]
  },
  {
   "cell_type": "markdown",
   "metadata": {
    "colab_type": "text",
    "id": "WogNL9UxeOUV"
   },
   "source": [
    "### 25. 슬라이스를 사용하면 문자열이나 리스트를 원소의 번호로 나눌 수 있습니다. 아래의 전화번호에서 010 국번만 출력하도록 슬라이싱을 해보세요.\n",
    "* 참고 : https://dojang.io/mod/page/view.php?id=2208"
   ]
  },
  {
   "cell_type": "code",
   "execution_count": 51,
   "metadata": {
    "colab": {},
    "colab_type": "code",
    "id": "PTTaAUr4ekdI"
   },
   "outputs": [
    {
     "data": {
      "text/plain": [
       "'010'"
      ]
     },
     "execution_count": 51,
     "metadata": {},
     "output_type": "execute_result"
    }
   ],
   "source": [
    "mobile = \"82-010-9876-4321\"\n",
    "mobile[3:6]"
   ]
  },
  {
   "cell_type": "code",
   "execution_count": null,
   "metadata": {
    "colab": {},
    "colab_type": "code",
    "id": "dDgKH8JeiZ4B"
   },
   "outputs": [],
   "source": []
  }
 ],
 "metadata": {
  "colab": {
   "name": "ND-파이썬기초-과제1.ipynb",
   "private_outputs": true,
   "provenance": []
  },
  "kernelspec": {
   "display_name": "Python 3",
   "language": "python",
   "name": "python3"
  },
  "language_info": {
   "codemirror_mode": {
    "name": "ipython",
    "version": 3
   },
   "file_extension": ".py",
   "mimetype": "text/x-python",
   "name": "python",
   "nbconvert_exporter": "python",
   "pygments_lexer": "ipython3",
   "version": "3.7.6"
  },
  "varInspector": {
   "cols": {
    "lenName": 16,
    "lenType": 16,
    "lenVar": 40
   },
   "kernels_config": {
    "python": {
     "delete_cmd_postfix": "",
     "delete_cmd_prefix": "del ",
     "library": "var_list.py",
     "varRefreshCmd": "print(var_dic_list())"
    },
    "r": {
     "delete_cmd_postfix": ") ",
     "delete_cmd_prefix": "rm(",
     "library": "var_list.r",
     "varRefreshCmd": "cat(var_dic_list()) "
    }
   },
   "types_to_exclude": [
    "module",
    "function",
    "builtin_function_or_method",
    "instance",
    "_Feature"
   ],
   "window_display": false
  }
 },
 "nbformat": 4,
 "nbformat_minor": 1
}
